{
  "cells": [
    {
      "cell_type": "markdown",
      "metadata": {
        "id": "Y6Fxg5-0GRd7"
      },
      "source": [
        "# **Конфигурация**\n",
        "\n",
        "Здесь осуществялется **указание переменных проекта**, **подключение всех импортов**."
      ]
    },
    {
      "cell_type": "markdown",
      "metadata": {
        "id": "6XOedF11GRd-"
      },
      "source": [
        "## Импорты\n",
        "\n",
        "Здесь осуществляется импорт всех используемых в проекте библиотек. **Все импорты следует указывать здесь**."
      ]
    },
    {
      "cell_type": "code",
      "execution_count": 56,
      "metadata": {
        "id": "aenhnpLPGRd_"
      },
      "outputs": [],
      "source": [
        "import os, glob, random, shutil, ntpath, cv2, pandas as pd, tensorflow as tf\n",
        "from pathlib import Path\n",
        "from PIL import Image\n",
        "from google.colab import drive\n",
        "import tensorflow_datasets as tfds\n",
        "import matplotlib.pyplot as plt\n",
        "from tensorflow import keras\n",
        "from tensorflow.keras import layers\n",
        "from tensorflow.keras.models import Sequential\n",
        "from tensorflow.keras.layers import Dense, Dropout, Activation, Flatten\n",
        "from tensorflow.keras.layers import Conv2D, MaxPooling2D\n",
        "from tensorflow.keras.callbacks import TensorBoard"
      ]
    },
    {
      "cell_type": "markdown",
      "metadata": {
        "id": "oRIf7uuNGReB"
      },
      "source": [
        "## Подключение данных\n",
        "\n",
        "Здесь осуществляется подключение данных. Данными выступают фотографии. Фотографии берутся из Google Disk. Исходя из своих потребностей **вы можете сами определить для себя, откуда вы будете извлекать фотографии для формирования датасетов**. Это означает, что вам не обязательно выполнять данный блок, но придется переопределить его для своих нужд и возможностей, например, осуществляя локальную подгрузку файлов."
      ]
    },
    {
      "cell_type": "code",
      "execution_count": 57,
      "metadata": {
        "id": "dCYls7CMGReC",
        "colab": {
          "base_uri": "https://localhost:8080/"
        },
        "outputId": "04ce4c71-da7e-49d4-a246-5dfd49285a56"
      },
      "outputs": [
        {
          "output_type": "stream",
          "name": "stdout",
          "text": [
            "Drive already mounted at /content/drive; to attempt to forcibly remount, call drive.mount(\"/content/drive\", force_remount=True).\n"
          ]
        }
      ],
      "source": [
        "# подключение вашего гугл диска\n",
        "drive.mount('/content/drive')"
      ]
    },
    {
      "cell_type": "markdown",
      "metadata": {
        "id": "8FemvLp8GReD"
      },
      "source": [
        "## Функции\n",
        "\n",
        "Здесь определяются функции, которые могут быть использованы во всех последующих блоках многократно."
      ]
    },
    {
      "cell_type": "code",
      "execution_count": 58,
      "metadata": {
        "id": "2w-pT7A1GReE"
      },
      "outputs": [],
      "source": [
        "# функция для подгрузки всех файлов\n",
        "def get_files_from(path, exp):\n",
        "\n",
        "  images = []\n",
        "\n",
        "  for f in glob.glob(\"drive/MyDrive/csu/ML/\" + path + \"/\" + \"*.\" + exp):\n",
        "\n",
        "    images.append(f)\n",
        "\n",
        "  return images\n",
        "\n",
        "# копирование файлов в указанную директорию\n",
        "def copy_files_from(path, files):\n",
        "\n",
        "  for f in files:\n",
        "\n",
        "    shutil.copyfile(f, \"drive/MyDrive/csu/ML/\" + path + \"/\" + ntpath.basename(f))\n",
        "\n",
        "# удаление всех файлов в директории\n",
        "def remove_files_from(path):\n",
        "\n",
        "  for f in glob.glob(\"drive/MyDrive/csu/ML/\" + path + \"/**/*\", recursive = True):\n",
        "\n",
        "    try:\n",
        "      \n",
        "      os.remove(f)\n",
        "    \n",
        "    except OSError as e:\n",
        "\n",
        "      print(e)"
      ]
    },
    {
      "cell_type": "markdown",
      "metadata": {
        "id": "8dLyGE1ZGReF"
      },
      "source": [
        "## Переменные\n",
        "\n",
        "Здесь определяются переменные проекта, которые будут использоваться во всех последующих блоках."
      ]
    },
    {
      "cell_type": "code",
      "execution_count": 59,
      "metadata": {
        "id": "2Oqrj7asGReG"
      },
      "outputs": [],
      "source": [
        "# кол-во эпох\n",
        "epochs = 100\n",
        "# ширина изображений\n",
        "img_width = 224\n",
        "# высота изображений\n",
        "img_height = 224\n",
        "# кол-во изображений\n",
        "img_count = 640\n",
        "# размеры изображения\n",
        "img_size = (img_width, img_height, 3)\n",
        "# размер пакета\n",
        "batch_size = 32\n",
        "# кол-во классов\n",
        "num_classes = 2\n",
        "# названия классов\n",
        "class_names = [\"Olds\", \"Youngs\"]\n",
        "# цвет\n",
        "color_mode = \"rgb\"\n",
        "# шаг валидации\n",
        "validation_steps = 30\n",
        "# основная директория\n",
        "dir_main = Path(\"drive/MyDrive/csu/ML\")\n",
        "# пути к фотографиям старцев\n",
        "class1 = get_files_from(\"Olds\", \"jpg\")\n",
        "# пути к фотографиям юнцов\n",
        "class2 = get_files_from(\"Youngs\", \"jpg\")\n",
        "# массив всех изображений\n",
        "images = class1 + class2\n",
        "# агументация\n",
        "data_augmentation = keras.Sequential(\n",
        "    [\n",
        "        layers.experimental.preprocessing.RandomFlip(\"horizontal\"),\n",
        "        layers.experimental.preprocessing.RandomRotation(0.1),\n",
        "        layers.experimental.preprocessing.RandomZoom(0.2),\n",
        "    ],\n",
        "    name='augmentation'\n",
        ")\n",
        "# входной поток\n",
        "inputs = keras.Input(shape=img_size)\n",
        "# цепочка выполнений\n",
        "x = data_augmentation(inputs)\n",
        "x = layers.experimental.preprocessing.Rescaling(1./255)(x)\n",
        "x = layers.Conv2D(filters=32, kernel_size=3, activation='relu')(x)\n",
        "x = layers.MaxPooling2D(pool_size=2)(x)\n",
        "x = layers.Conv2D(filters=64, kernel_size=3, activation='relu')(x)\n",
        "x = layers.MaxPooling2D(pool_size=2)(x)\n",
        "x = layers.Conv2D(filters=128, kernel_size=3, activation='relu')(x)\n",
        "x = layers.MaxPooling2D(pool_size=2)(x)\n",
        "x = layers.Conv2D(filters=256, kernel_size=3, activation='relu')(x)\n",
        "x = layers.MaxPooling2D(pool_size=2)(x)\n",
        "x = layers.Conv2D(filters=256, kernel_size=3, activation='relu')(x)\n",
        "x = layers.Flatten()(x)\n",
        "x = layers.Dropout(0.5)(x)\n",
        "# выходной поток\n",
        "outputs = layers.Dense(1, activation='sigmoid')(x)"
      ]
    },
    {
      "cell_type": "markdown",
      "metadata": {
        "id": "xuSV6eoJGReH"
      },
      "source": [
        "# **Обработка данных**\n",
        "\n",
        "Здесь осуществляется обработка данных, перед формированием наборов данных. Их можно искажать, подгонять под правильные размеры."
      ]
    },
    {
      "cell_type": "markdown",
      "metadata": {
        "id": "VbElJZe1GReI"
      },
      "source": [
        "## Изменение размеров изображений\n",
        "\n",
        "Здесь осуществялется изменение размеров всех фотографий."
      ]
    },
    {
      "cell_type": "code",
      "execution_count": 5,
      "metadata": {
        "id": "AW3WYk-LGReI"
      },
      "outputs": [],
      "source": [
        "for f in images:\n",
        "  \n",
        "  Image.open(f).resize((img_width, img_height)).save(f)"
      ]
    },
    {
      "cell_type": "markdown",
      "metadata": {
        "id": "b0U5wZJPGReJ"
      },
      "source": [
        "# **Формирование данных**\n",
        "\n",
        "Здесь осуществялется формирование наборов данных."
      ]
    },
    {
      "cell_type": "markdown",
      "metadata": {
        "id": "PpHBNKU6GReK"
      },
      "source": [
        "## Очистка предыдущих наборов данных\n",
        "\n",
        "Здесь осуществялется очистка всех фотографий из папок преназначенных для формирования наборов данных."
      ]
    },
    {
      "cell_type": "code",
      "execution_count": 6,
      "metadata": {
        "id": "JBlMAJXBGReK"
      },
      "outputs": [],
      "source": [
        "# удаление тренировочной папки\n",
        "remove_files_from(\"Train/Olds\")\n",
        "remove_files_from(\"Train/Youngs\")\n",
        "# удаление валидационной папки\n",
        "remove_files_from(\"Validate/Olds\")\n",
        "remove_files_from(\"Validate/Youngs\")\n",
        "# удаление тестовой папки\n",
        "remove_files_from(\"Test/Olds\")\n",
        "remove_files_from(\"Test/Youngs\")"
      ]
    },
    {
      "cell_type": "markdown",
      "metadata": {
        "id": "wgUrblB9GReL"
      },
      "source": [
        "## Заполнение папок наборов данных\n",
        "\n",
        "Здесь формируются папки будущих наборов данных."
      ]
    },
    {
      "cell_type": "code",
      "execution_count": 7,
      "metadata": {
        "id": "y3jPSpVLGReM"
      },
      "outputs": [],
      "source": [
        "# заполнение тренировочной папки\n",
        "copy_files_from(\"Train/Olds\", class1[:(int)(len(class1)*0.7)])\n",
        "copy_files_from(\"Train/Youngs\", class2[:(int)(len(class2)*0.7)])"
      ]
    },
    {
      "cell_type": "code",
      "execution_count": 8,
      "metadata": {
        "id": "a_rh0pUpGReM"
      },
      "outputs": [],
      "source": [
        "# заполнение валидационной папки\n",
        "copy_files_from(\"Validate/Olds\", class1[(int)(len(class1)*0.7):(int)(len(class1)*0.85)])\n",
        "copy_files_from(\"Validate/Youngs\", class2[(int)(len(class2)*0.7):(int)(len(class2)*0.85)])"
      ]
    },
    {
      "cell_type": "code",
      "execution_count": 9,
      "metadata": {
        "id": "VTsuAUkOGReN"
      },
      "outputs": [],
      "source": [
        "# заполнение тестовой папки\n",
        "copy_files_from(\"Test/Olds\", class1[(int)(len(class1)*0.85):])\n",
        "copy_files_from(\"Test/Youngs\", class2[(int)(len(class2)*0.85):])"
      ]
    },
    {
      "cell_type": "markdown",
      "metadata": {
        "id": "j68YOmmUGReO"
      },
      "source": [
        "## Создание наборов данных\n",
        "\n",
        "Здесь осуществляется формирование наборов данных, как объектов tf. Для формирования используется подгрузка данных из папок. **Формировать такие наборы следует в отдельных блоках**."
      ]
    },
    {
      "cell_type": "code",
      "execution_count": null,
      "metadata": {
        "id": "4d0pNVkKGReO"
      },
      "outputs": [],
      "source": [
        "# создание тренировочного датасета\n",
        "train_ds = tf.keras.utils.image_dataset_from_directory(\n",
        "  \"drive/MyDrive/csu/ML/Train/\",\n",
        "  seed=123,\n",
        "  shuffle=True,\n",
        "  subset=\"validation\",\n",
        "  color_mode=color_mode,\n",
        "  class_names = class_names,\n",
        "  batch_size=batch_size,\n",
        "  image_size=img_size[:2],\n",
        "  validation_split=0.2)"
      ]
    },
    {
      "cell_type": "code",
      "execution_count": 11,
      "metadata": {
        "id": "ncIuT-NeGReP",
        "colab": {
          "base_uri": "https://localhost:8080/"
        },
        "outputId": "36be9c4f-c393-41d3-b91d-647c2f4f6082"
      },
      "outputs": [
        {
          "output_type": "stream",
          "name": "stdout",
          "text": [
            "Found 94 files belonging to 2 classes.\n",
            "Using 18 files for validation.\n"
          ]
        }
      ],
      "source": [
        "# создание валидационного датасета\n",
        "validate_ds = tf.keras.utils.image_dataset_from_directory(\n",
        "  \"drive/MyDrive/csu/ML/Validate/\",\n",
        "  seed=123,\n",
        "  shuffle=True,\n",
        "  subset=\"validation\",\n",
        "  color_mode=color_mode,\n",
        "  class_names = class_names,\n",
        "  batch_size=batch_size,\n",
        "  image_size=img_size[:2],\n",
        "  validation_split=0.2)"
      ]
    },
    {
      "cell_type": "markdown",
      "metadata": {
        "id": "eTTWcIa2GReQ"
      },
      "source": [
        "## Создание таблиц\n",
        "\n",
        "Здесь осущетсвялется формирование таблиц на основе наборов данных."
      ]
    },
    {
      "cell_type": "code",
      "execution_count": null,
      "metadata": {
        "id": "urK9QA_DGReQ"
      },
      "outputs": [],
      "source": [
        "# тренировочный датафрейм\n",
        "set_training = [(file.as_posix(), file.parent.name) for file in dir_main.joinpath(\"Train\").glob(\"**/*.*\")]\n",
        "train_df = pd.DataFrame(data=set_training, columns=['file', 'label'])\n",
        "train_df['label_i'] = train_df['label'].astype('category').cat.codes\n",
        "train_df.head()"
      ]
    },
    {
      "cell_type": "code",
      "execution_count": null,
      "metadata": {
        "id": "pOwquTOoGReR"
      },
      "outputs": [],
      "source": [
        "# валидационный датафрейм\n",
        "set_validate = [(file.as_posix(), file.parent.name) for file in dir_main.joinpath('Validate').glob('**/*.*')]\n",
        "val_df = pd.DataFrame(data=set_validate, columns=['file', 'label'])\n",
        "val_df['label_i'] = val_df['label'].astype('category').cat.codes\n",
        "val_df.head()"
      ]
    },
    {
      "cell_type": "markdown",
      "metadata": {
        "id": "1_IQLKneGReS"
      },
      "source": [
        "# **Формирование Модели**\n",
        "\n",
        "Здесь осуществляется формирование модели."
      ]
    },
    {
      "cell_type": "markdown",
      "metadata": {
        "id": "hEcpvHhzGReS"
      },
      "source": [
        "## Создание модели данных"
      ]
    },
    {
      "cell_type": "code",
      "execution_count": 60,
      "metadata": {
        "id": "tZGJ1TgRGReS",
        "colab": {
          "base_uri": "https://localhost:8080/"
        },
        "outputId": "4a862038-3ac1-4ece-8eeb-26ce1a512467"
      },
      "outputs": [
        {
          "output_type": "stream",
          "name": "stdout",
          "text": [
            "Model: \"model_2\"\n",
            "_________________________________________________________________\n",
            " Layer (type)                Output Shape              Param #   \n",
            "=================================================================\n",
            " input_3 (InputLayer)        [(None, 224, 224, 3)]     0         \n",
            "                                                                 \n",
            " augmentation (Sequential)   (None, 224, 224, 3)       0         \n",
            "                                                                 \n",
            " rescaling_2 (Rescaling)     (None, 224, 224, 3)       0         \n",
            "                                                                 \n",
            " conv2d_10 (Conv2D)          (None, 222, 222, 32)      896       \n",
            "                                                                 \n",
            " max_pooling2d_8 (MaxPooling  (None, 111, 111, 32)     0         \n",
            " 2D)                                                             \n",
            "                                                                 \n",
            " conv2d_11 (Conv2D)          (None, 109, 109, 64)      18496     \n",
            "                                                                 \n",
            " max_pooling2d_9 (MaxPooling  (None, 54, 54, 64)       0         \n",
            " 2D)                                                             \n",
            "                                                                 \n",
            " conv2d_12 (Conv2D)          (None, 52, 52, 128)       73856     \n",
            "                                                                 \n",
            " max_pooling2d_10 (MaxPoolin  (None, 26, 26, 128)      0         \n",
            " g2D)                                                            \n",
            "                                                                 \n",
            " conv2d_13 (Conv2D)          (None, 24, 24, 256)       295168    \n",
            "                                                                 \n",
            " max_pooling2d_11 (MaxPoolin  (None, 12, 12, 256)      0         \n",
            " g2D)                                                            \n",
            "                                                                 \n",
            " conv2d_14 (Conv2D)          (None, 10, 10, 256)       590080    \n",
            "                                                                 \n",
            " flatten_3 (Flatten)         (None, 25600)             0         \n",
            "                                                                 \n",
            " dropout_3 (Dropout)         (None, 25600)             0         \n",
            "                                                                 \n",
            " dense_4 (Dense)             (None, 1)                 25601     \n",
            "                                                                 \n",
            "=================================================================\n",
            "Total params: 1,004,097\n",
            "Trainable params: 1,004,097\n",
            "Non-trainable params: 0\n",
            "_________________________________________________________________\n"
          ]
        }
      ],
      "source": [
        "# создание модели на основе наборов данных\n",
        "model = keras.Model(inputs=inputs, outputs=outputs)\n",
        "\n",
        "model.summary()"
      ]
    },
    {
      "cell_type": "markdown",
      "metadata": {
        "id": "XW5jKwkOGReT"
      },
      "source": [
        "## Компиляция"
      ]
    },
    {
      "cell_type": "code",
      "execution_count": 61,
      "metadata": {
        "id": "BM-33cmnGReT"
      },
      "outputs": [],
      "source": [
        "model.compile(loss='binary_crossentropy',\n",
        "              optimizer='rmsprop',\n",
        "              metrics=['accuracy'])"
      ]
    },
    {
      "cell_type": "markdown",
      "metadata": {
        "id": "u1cBqmRoGReU"
      },
      "source": [
        "# **Обучение Модели**"
      ]
    },
    {
      "cell_type": "code",
      "execution_count": null,
      "metadata": {
        "id": "3p3DZlsxGReU",
        "colab": {
          "base_uri": "https://localhost:8080/"
        },
        "outputId": "adca0f80-5191-4061-9dfc-6766499cbedc"
      },
      "outputs": [
        {
          "output_type": "stream",
          "name": "stdout",
          "text": [
            "Epoch 1/100\n",
            "3/3 [==============================] - 70s 32s/step - loss: 2.4193 - accuracy: 0.5114 - val_loss: 0.7658 - val_accuracy: 0.2778\n",
            "Epoch 2/100\n",
            "1/3 [=========>....................] - ETA: 8s - loss: 0.7125 - accuracy: 0.4688"
          ]
        }
      ],
      "source": [
        "history = model.fit(\n",
        "    train_ds,\n",
        "    epochs=epochs,\n",
        "    validation_data=validate_ds)"
      ]
    },
    {
      "cell_type": "markdown",
      "source": [
        "# Графики"
      ],
      "metadata": {
        "id": "kLYtJKmsR9fI"
      }
    },
    {
      "cell_type": "code",
      "source": [
        "accuracy = history.history['accuracy']\n",
        "val_accuracy = history.history['val_accuracy']\n",
        "loss = history.history['loss']\n",
        "val_loss = history.history['val_loss']\n",
        "epochs = range(1,len(accuracy)+1)\n",
        "plt.plot(epochs, accuracy, \"bo\", label=\"Training accuracy\")\n",
        "plt.legend()\n",
        "plt.title(\"Training and validation accuracy\")\n",
        "plt.figure()\n",
        "\n",
        "plt.plot(epochs, loss, \"bo\", label=\"Training loss\")\n",
        "plt.legend()\n",
        "plt.title(\"Training and validation loss\")\n",
        "plt.show()"
      ],
      "metadata": {
        "colab": {
          "base_uri": "https://localhost:8080/",
          "height": 545
        },
        "id": "kzzq8h6dR9Lm",
        "outputId": "ce85ebe8-03c7-4e8b-92f2-99ec9f287605"
      },
      "execution_count": 47,
      "outputs": [
        {
          "output_type": "display_data",
          "data": {
            "text/plain": [
              "<Figure size 432x288 with 1 Axes>"
            ],
            "image/png": "[encoded data removed]"
          },
          "metadata": {
            "needs_background": "light"
          }
        },
        {
          "output_type": "display_data",
          "data": {
            "text/plain": [
              "<Figure size 432x288 with 1 Axes>"
            ],
            "image/png": "[encoded data removed]"
          },
          "metadata": {
            "needs_background": "light"
          }
        }
      ]
    }
  ],
  "metadata": {
    "kernelspec": {
      "display_name": "Python 3.10.6 64-bit",
      "language": "python",
      "name": "python3"
    },
    "language_info": {
      "name": "python",
      "version": "3.10.6"
    },
    "orig_nbformat": 4,
    "vscode": {
      "interpreter": {
        "hash": "369f2c481f4da34e4445cda3fffd2e751bd1c4d706f27375911949ba6bb62e1c"
      }
    },
    "colab": {
      "provenance": [],
      "collapsed_sections": [
        "oRIf7uuNGReB",
        "8FemvLp8GReD",
        "VbElJZe1GReI",
        "PpHBNKU6GReK",
        "wgUrblB9GReL",
        "j68YOmmUGReO",
        "eTTWcIa2GReQ",
        "hEcpvHhzGReS",
        "kLYtJKmsR9fI"
      ]
    }
  },
  "nbformat": 4,
  "nbformat_minor": 0
}